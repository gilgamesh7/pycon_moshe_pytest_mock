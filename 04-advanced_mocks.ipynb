{
 "cells": [
  {
   "cell_type": "code",
   "execution_count": 1,
   "metadata": {},
   "outputs": [],
   "source": [
    "import ipytest\n",
    "ipytest.autoconfig()"
   ]
  },
  {
   "cell_type": "code",
   "execution_count": 6,
   "metadata": {},
   "outputs": [
    {
     "name": "stdout",
     "output_type": "stream",
     "text": [
      "\u001b[1m======================================= test session starts ========================================\u001b[0m\n",
      "platform darwin -- Python 3.10.0, pytest-6.2.5, py-1.11.0, pluggy-1.0.0 -- /Users/vrbabu/Documents/pycon_moshe_pytest_mock/venv/bin/python\n",
      "cachedir: .pytest_cache\n",
      "rootdir: /Users/vrbabu/Documents/pycon_moshe_pytest_mock\n",
      "plugins: anyio-3.4.0\n",
      "\u001b[1mcollecting ... \u001b[0mcollected 1 item\n",
      "\n",
      "tmpjme5vn91.py::test_use_return_value \u001b[31mFAILED\u001b[0m\u001b[31m                                                 [100%]\u001b[0m\n",
      "\n",
      "============================================= FAILURES =============================================\n",
      "\u001b[31m\u001b[1m______________________________________ test_use_return_value _______________________________________\u001b[0m\n",
      "\n",
      "    \u001b[94mdef\u001b[39;49;00m \u001b[92mtest_use_return_value\u001b[39;49;00m():\n",
      "        \u001b[90m# my_mock = mock.MagicMock(name=\"my_mock\")\u001b[39;49;00m\n",
      "        \u001b[90m# my_mock.return_value.some_attribute = 5\u001b[39;49;00m\n",
      "        my_mock = mock.MagicMock(name=\u001b[33m\"\u001b[39;49;00m\u001b[33mmy_mock\u001b[39;49;00m\u001b[33m\"\u001b[39;49;00m, **{\u001b[33m\"\u001b[39;49;00m\u001b[33mreturn_value.some_attribute\u001b[39;49;00m\u001b[33m\"\u001b[39;49;00m : \u001b[94m5\u001b[39;49;00m})\n",
      "    \n",
      ">       \u001b[94massert\u001b[39;49;00m my_mock().some_attribute != \u001b[94m5\u001b[39;49;00m\n",
      "\u001b[1m\u001b[31mE       AssertionError: assert 5 != 5\u001b[0m\n",
      "\u001b[1m\u001b[31mE        +  where 5 = <MagicMock name='my_mock()' id='4459265808'>.some_attribute\u001b[0m\n",
      "\u001b[1m\u001b[31mE        +    where <MagicMock name='my_mock()' id='4459265808'> = <MagicMock name='my_mock' id='4459258368'>()\u001b[0m\n",
      "\n",
      "\u001b[1m\u001b[31m/var/folders/nc/9qhrjynn6vjfcdgr9x5llf180000gn/T/ipykernel_75879/1916512232.py\u001b[0m:8: AssertionError\n",
      "===================================== short test summary info ======================================\n",
      "FAILED tmpjme5vn91.py::test_use_return_value - AssertionError: assert 5 != 5\n",
      "\u001b[31m======================================== \u001b[31m\u001b[1m1 failed\u001b[0m\u001b[31m in 0.01s\u001b[0m\u001b[31m =========================================\u001b[0m\n"
     ]
    }
   ],
   "source": [
    "%%ipytest -vv\n",
    "\n",
    "from unittest import mock\n",
    "\n",
    "def test_use_return_value():\n",
    "    # my_mock = mock.MagicMock(name=\"my_mock\")\n",
    "    # my_mock.return_value.some_attribute = 5\n",
    "    my_mock = mock.MagicMock(name=\"my_mock\", **{\"return_value.some_attribute\" : 5})\n",
    "\n",
    "    assert my_mock().some_attribute != 5"
   ]
  },
  {
   "cell_type": "code",
   "execution_count": 7,
   "metadata": {},
   "outputs": [
    {
     "name": "stdout",
     "output_type": "stream",
     "text": [
      "\u001b[1m======================================= test session starts ========================================\u001b[0m\n",
      "platform darwin -- Python 3.10.0, pytest-6.2.5, py-1.11.0, pluggy-1.0.0 -- /Users/vrbabu/Documents/pycon_moshe_pytest_mock/venv/bin/python\n",
      "cachedir: .pytest_cache\n",
      "rootdir: /Users/vrbabu/Documents/pycon_moshe_pytest_mock\n",
      "plugins: anyio-3.4.0\n",
      "\u001b[1mcollecting ... \u001b[0mcollected 1 item\n",
      "\n",
      "tmps_d9hdjw.py::test_set_deep_method_return_value \u001b[31mFAILED\u001b[0m\u001b[31m                                     [100%]\u001b[0m\n",
      "\n",
      "============================================= FAILURES =============================================\n",
      "\u001b[31m\u001b[1m________________________________ test_set_deep_method_return_value _________________________________\u001b[0m\n",
      "\n",
      "    \u001b[94mdef\u001b[39;49;00m \u001b[92mtest_set_deep_method_return_value\u001b[39;49;00m():\n",
      "        my_mock = mock.MagicMock(name=\u001b[33m\"\u001b[39;49;00m\u001b[33mmy_mock\u001b[39;49;00m\u001b[33m\"\u001b[39;49;00m, **{\u001b[33m\"\u001b[39;49;00m\u001b[33mmethod.return_value.some_attribute\u001b[39;49;00m\u001b[33m\"\u001b[39;49;00m : \u001b[94m5\u001b[39;49;00m})\n",
      "    \n",
      ">       \u001b[94massert\u001b[39;49;00m my_mock.method().some_attribute != \u001b[94m5\u001b[39;49;00m\n",
      "\u001b[1m\u001b[31mE       AssertionError: assert 5 != 5\u001b[0m\n",
      "\u001b[1m\u001b[31mE        +  where 5 = <MagicMock name='my_mock.method()' id='4459752048'>.some_attribute\u001b[0m\n",
      "\u001b[1m\u001b[31mE        +    where <MagicMock name='my_mock.method()' id='4459752048'> = <MagicMock name='my_mock.method' id='4459744224'>()\u001b[0m\n",
      "\u001b[1m\u001b[31mE        +      where <MagicMock name='my_mock.method' id='4459744224'> = <MagicMock name='my_mock' id='4459588928'>.method\u001b[0m\n",
      "\n",
      "\u001b[1m\u001b[31m/var/folders/nc/9qhrjynn6vjfcdgr9x5llf180000gn/T/ipykernel_75879/1684035934.py\u001b[0m:6: AssertionError\n",
      "===================================== short test summary info ======================================\n",
      "FAILED tmps_d9hdjw.py::test_set_deep_method_return_value - AssertionError: assert 5 != 5\n",
      "\u001b[31m======================================== \u001b[31m\u001b[1m1 failed\u001b[0m\u001b[31m in 0.01s\u001b[0m\u001b[31m =========================================\u001b[0m\n"
     ]
    }
   ],
   "source": [
    "%%ipytest -vv\n",
    "\n",
    "from unittest import mock\n",
    "\n",
    "def test_set_deep_method_return_value():\n",
    "    my_mock = mock.MagicMock(name=\"my_mock\", **{\"method.return_value.some_attribute\" : 5})\n",
    "\n",
    "    assert my_mock.method().some_attribute != 5"
   ]
  }
 ],
 "metadata": {
  "interpreter": {
   "hash": "52426598888f832f2d5645d1b008540790c3300c0ee59cc57f4f5b4ce391cdd5"
  },
  "kernelspec": {
   "display_name": "Python 3.10.0 64-bit ('venv': venv)",
   "language": "python",
   "name": "python3"
  },
  "language_info": {
   "codemirror_mode": {
    "name": "ipython",
    "version": 3
   },
   "file_extension": ".py",
   "mimetype": "text/x-python",
   "name": "python",
   "nbconvert_exporter": "python",
   "pygments_lexer": "ipython3",
   "version": "3.10.0"
  },
  "orig_nbformat": 4
 },
 "nbformat": 4,
 "nbformat_minor": 2
}
