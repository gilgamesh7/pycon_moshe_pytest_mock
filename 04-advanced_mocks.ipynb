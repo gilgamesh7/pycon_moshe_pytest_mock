{
 "cells": [
  {
   "cell_type": "code",
   "execution_count": 1,
   "metadata": {},
   "outputs": [],
   "source": [
    "import ipytest\n",
    "ipytest.autoconfig()"
   ]
  },
  {
   "cell_type": "code",
   "execution_count": 6,
   "metadata": {},
   "outputs": [
    {
     "name": "stdout",
     "output_type": "stream",
     "text": [
      "\u001b[1m======================================= test session starts ========================================\u001b[0m\n",
      "platform darwin -- Python 3.10.0, pytest-6.2.5, py-1.11.0, pluggy-1.0.0 -- /Users/vrbabu/Documents/pycon_moshe_pytest_mock/venv/bin/python\n",
      "cachedir: .pytest_cache\n",
      "rootdir: /Users/vrbabu/Documents/pycon_moshe_pytest_mock\n",
      "plugins: anyio-3.4.0\n",
      "\u001b[1mcollecting ... \u001b[0mcollected 1 item\n",
      "\n",
      "tmpjme5vn91.py::test_use_return_value \u001b[31mFAILED\u001b[0m\u001b[31m                                                 [100%]\u001b[0m\n",
      "\n",
      "============================================= FAILURES =============================================\n",
      "\u001b[31m\u001b[1m______________________________________ test_use_return_value _______________________________________\u001b[0m\n",
      "\n",
      "    \u001b[94mdef\u001b[39;49;00m \u001b[92mtest_use_return_value\u001b[39;49;00m():\n",
      "        \u001b[90m# my_mock = mock.MagicMock(name=\"my_mock\")\u001b[39;49;00m\n",
      "        \u001b[90m# my_mock.return_value.some_attribute = 5\u001b[39;49;00m\n",
      "        my_mock = mock.MagicMock(name=\u001b[33m\"\u001b[39;49;00m\u001b[33mmy_mock\u001b[39;49;00m\u001b[33m\"\u001b[39;49;00m, **{\u001b[33m\"\u001b[39;49;00m\u001b[33mreturn_value.some_attribute\u001b[39;49;00m\u001b[33m\"\u001b[39;49;00m : \u001b[94m5\u001b[39;49;00m})\n",
      "    \n",
      ">       \u001b[94massert\u001b[39;49;00m my_mock().some_attribute != \u001b[94m5\u001b[39;49;00m\n",
      "\u001b[1m\u001b[31mE       AssertionError: assert 5 != 5\u001b[0m\n",
      "\u001b[1m\u001b[31mE        +  where 5 = <MagicMock name='my_mock()' id='4459265808'>.some_attribute\u001b[0m\n",
      "\u001b[1m\u001b[31mE        +    where <MagicMock name='my_mock()' id='4459265808'> = <MagicMock name='my_mock' id='4459258368'>()\u001b[0m\n",
      "\n",
      "\u001b[1m\u001b[31m/var/folders/nc/9qhrjynn6vjfcdgr9x5llf180000gn/T/ipykernel_75879/1916512232.py\u001b[0m:8: AssertionError\n",
      "===================================== short test summary info ======================================\n",
      "FAILED tmpjme5vn91.py::test_use_return_value - AssertionError: assert 5 != 5\n",
      "\u001b[31m======================================== \u001b[31m\u001b[1m1 failed\u001b[0m\u001b[31m in 0.01s\u001b[0m\u001b[31m =========================================\u001b[0m\n"
     ]
    }
   ],
   "source": [
    "%%ipytest -vv\n",
    "\n",
    "from unittest import mock\n",
    "\n",
    "def test_use_return_value():\n",
    "    # my_mock = mock.MagicMock(name=\"my_mock\")\n",
    "    # my_mock.return_value.some_attribute = 5\n",
    "    my_mock = mock.MagicMock(name=\"my_mock\", **{\"return_value.some_attribute\" : 5})\n",
    "\n",
    "    assert my_mock().some_attribute != 5"
   ]
  },
  {
   "cell_type": "code",
   "execution_count": 7,
   "metadata": {},
   "outputs": [
    {
     "name": "stdout",
     "output_type": "stream",
     "text": [
      "\u001b[1m======================================= test session starts ========================================\u001b[0m\n",
      "platform darwin -- Python 3.10.0, pytest-6.2.5, py-1.11.0, pluggy-1.0.0 -- /Users/vrbabu/Documents/pycon_moshe_pytest_mock/venv/bin/python\n",
      "cachedir: .pytest_cache\n",
      "rootdir: /Users/vrbabu/Documents/pycon_moshe_pytest_mock\n",
      "plugins: anyio-3.4.0\n",
      "\u001b[1mcollecting ... \u001b[0mcollected 1 item\n",
      "\n",
      "tmps_d9hdjw.py::test_set_deep_method_return_value \u001b[31mFAILED\u001b[0m\u001b[31m                                     [100%]\u001b[0m\n",
      "\n",
      "============================================= FAILURES =============================================\n",
      "\u001b[31m\u001b[1m________________________________ test_set_deep_method_return_value _________________________________\u001b[0m\n",
      "\n",
      "    \u001b[94mdef\u001b[39;49;00m \u001b[92mtest_set_deep_method_return_value\u001b[39;49;00m():\n",
      "        my_mock = mock.MagicMock(name=\u001b[33m\"\u001b[39;49;00m\u001b[33mmy_mock\u001b[39;49;00m\u001b[33m\"\u001b[39;49;00m, **{\u001b[33m\"\u001b[39;49;00m\u001b[33mmethod.return_value.some_attribute\u001b[39;49;00m\u001b[33m\"\u001b[39;49;00m : \u001b[94m5\u001b[39;49;00m})\n",
      "    \n",
      ">       \u001b[94massert\u001b[39;49;00m my_mock.method().some_attribute != \u001b[94m5\u001b[39;49;00m\n",
      "\u001b[1m\u001b[31mE       AssertionError: assert 5 != 5\u001b[0m\n",
      "\u001b[1m\u001b[31mE        +  where 5 = <MagicMock name='my_mock.method()' id='4459752048'>.some_attribute\u001b[0m\n",
      "\u001b[1m\u001b[31mE        +    where <MagicMock name='my_mock.method()' id='4459752048'> = <MagicMock name='my_mock.method' id='4459744224'>()\u001b[0m\n",
      "\u001b[1m\u001b[31mE        +      where <MagicMock name='my_mock.method' id='4459744224'> = <MagicMock name='my_mock' id='4459588928'>.method\u001b[0m\n",
      "\n",
      "\u001b[1m\u001b[31m/var/folders/nc/9qhrjynn6vjfcdgr9x5llf180000gn/T/ipykernel_75879/1684035934.py\u001b[0m:6: AssertionError\n",
      "===================================== short test summary info ======================================\n",
      "FAILED tmps_d9hdjw.py::test_set_deep_method_return_value - AssertionError: assert 5 != 5\n",
      "\u001b[31m======================================== \u001b[31m\u001b[1m1 failed\u001b[0m\u001b[31m in 0.01s\u001b[0m\u001b[31m =========================================\u001b[0m\n"
     ]
    }
   ],
   "source": [
    "%%ipytest -vv\n",
    "\n",
    "from unittest import mock\n",
    "\n",
    "def test_set_deep_method_return_value():\n",
    "    my_mock = mock.MagicMock(name=\"my_mock\", **{\"method.return_value.some_attribute\" : 5})\n",
    "\n",
    "    assert my_mock.method().some_attribute != 5"
   ]
  },
  {
   "cell_type": "markdown",
   "metadata": {},
   "source": [
    "## side effect itertor"
   ]
  },
  {
   "cell_type": "code",
   "execution_count": 11,
   "metadata": {},
   "outputs": [
    {
     "name": "stdout",
     "output_type": "stream",
     "text": [
      "\u001b[1m======================================= test session starts ========================================\u001b[0m\n",
      "platform darwin -- Python 3.10.0, pytest-6.2.5, py-1.11.0, pluggy-1.0.0 -- /Users/vrbabu/Documents/pycon_moshe_pytest_mock/venv/bin/python\n",
      "cachedir: .pytest_cache\n",
      "rootdir: /Users/vrbabu/Documents/pycon_moshe_pytest_mock\n",
      "plugins: anyio-3.4.0\n",
      "\u001b[1mcollecting ... \u001b[0mcollected 1 item\n",
      "\n",
      "tmpcrtnf6ou.py::test_iterator_with_side_effect \u001b[31mFAILED\u001b[0m\u001b[31m                                        [100%]\u001b[0m\n",
      "\n",
      "============================================= FAILURES =============================================\n",
      "\u001b[31m\u001b[1m__________________________________ test_iterator_with_side_effect __________________________________\u001b[0m\n",
      "\n",
      "    \u001b[94mdef\u001b[39;49;00m \u001b[92mtest_iterator_with_side_effect\u001b[39;49;00m():\n",
      "        my_mock = mock.MagicMock(name=\u001b[33m\"\u001b[39;49;00m\u001b[33mmy_mock\u001b[39;49;00m\u001b[33m\"\u001b[39;49;00m)\n",
      "        my_mock.side_effect = [\u001b[94m1\u001b[39;49;00m,\u001b[94m2\u001b[39;49;00m,\u001b[94m3\u001b[39;49;00m]\n",
      "    \n",
      "        \u001b[94massert\u001b[39;49;00m my_mock() == \u001b[94m1\u001b[39;49;00m\n",
      "        \u001b[94massert\u001b[39;49;00m my_mock() == \u001b[94m2\u001b[39;49;00m\n",
      ">       \u001b[94massert\u001b[39;49;00m my_mock() == \u001b[94m4\u001b[39;49;00m\n",
      "\u001b[1m\u001b[31mE       assert 3 == 4\u001b[0m\n",
      "\u001b[1m\u001b[31mE         +3\u001b[0m\n",
      "\u001b[1m\u001b[31mE         -4\u001b[0m\n",
      "\n",
      "\u001b[1m\u001b[31m/var/folders/nc/9qhrjynn6vjfcdgr9x5llf180000gn/T/ipykernel_75879/4183591025.py\u001b[0m:9: AssertionError\n",
      "===================================== short test summary info ======================================\n",
      "FAILED tmpcrtnf6ou.py::test_iterator_with_side_effect - assert 3 == 4\n",
      "\u001b[31m======================================== \u001b[31m\u001b[1m1 failed\u001b[0m\u001b[31m in 0.01s\u001b[0m\u001b[31m =========================================\u001b[0m\n"
     ]
    }
   ],
   "source": [
    "%%ipytest -vv\n",
    "\n",
    "from unittest import mock\n",
    "\n",
    "def test_iterator_with_side_effect():\n",
    "    my_mock = mock.MagicMock(name=\"my_mock\")\n",
    "    my_mock.side_effect = [1,2,3]\n",
    "\n",
    "    assert my_mock() == 1\n",
    "    assert my_mock() == 2\n",
    "    assert my_mock() == 4\n"
   ]
  },
  {
   "cell_type": "code",
   "execution_count": 14,
   "metadata": {},
   "outputs": [
    {
     "name": "stdout",
     "output_type": "stream",
     "text": [
      "\u001b[1m======================================= test session starts ========================================\u001b[0m\n",
      "platform darwin -- Python 3.10.0, pytest-6.2.5, py-1.11.0, pluggy-1.0.0 -- /Users/vrbabu/Documents/pycon_moshe_pytest_mock/venv/bin/python\n",
      "cachedir: .pytest_cache\n",
      "rootdir: /Users/vrbabu/Documents/pycon_moshe_pytest_mock\n",
      "plugins: anyio-3.4.0\n",
      "\u001b[1mcollecting ... \u001b[0mcollected 1 item\n",
      "\n",
      "tmpjcn1ylm1.py::test_parser \u001b[31mFAILED\u001b[0m\u001b[31m                                                           [100%]\u001b[0m\n",
      "\n",
      "============================================= FAILURES =============================================\n",
      "\u001b[31m\u001b[1m___________________________________________ test_parser ____________________________________________\u001b[0m\n",
      "\n",
      "    \u001b[94mdef\u001b[39;49;00m \u001b[92mtest_parser\u001b[39;49;00m():\n",
      "        filelike = mock.MagicMock(spec=TextIOBase)\n",
      "        filelike.readline.side_effect= [\n",
      "            \u001b[33m\"\u001b[39;49;00m\u001b[33mthing important \u001b[39;49;00m\u001b[33m\\n\u001b[39;49;00m\u001b[33m\"\u001b[39;49;00m,\n",
      "            \u001b[33m\"\u001b[39;49;00m\u001b[33ma-littel \u001b[39;49;00m\u001b[33m\\n\u001b[39;49;00m\u001b[33m\"\u001b[39;49;00m,\n",
      "            \u001b[33m\"\u001b[39;49;00m\u001b[33mto-some-people \u001b[39;49;00m\u001b[33m\\n\u001b[39;49;00m\u001b[33m\"\u001b[39;49;00m\n",
      "        ]\n",
      "        value = parse_3_lines(filelike)\n",
      ">       \u001b[94massert\u001b[39;49;00m value == \u001b[96mdict\u001b[39;49;00m(thing=\u001b[33m\"\u001b[39;49;00m\u001b[33mthing important/aa-littel+to-some-people\u001b[39;49;00m\u001b[33m\"\u001b[39;49;00m)\n",
      "\u001b[1m\u001b[31mE       assert {'thing': \"im...-some-people\"} == {'thing': 'th...-some-people'}\u001b[0m\n",
      "\u001b[1m\u001b[31mE         Differing items:\u001b[0m\n",
      "\u001b[1m\u001b[31mE         {'thing': \"important/['a-littel']+to-some-people\"} != {'thing': 'thing important/aa-littel+to-some-people'}\u001b[0m\n",
      "\u001b[1m\u001b[31mE         Full diff:\u001b[0m\n",
      "\u001b[1m\u001b[31mE         - {'thing': 'thing important/aa-littel+to-some-people'}\u001b[0m\n",
      "\u001b[1m\u001b[31mE         ?           ^^^^^^^          ^                       ^\u001b[0m\n",
      "\u001b[1m\u001b[31mE         + {'thing': \"important/['a-littel']+to-some-people\"}\u001b[0m\n",
      "\u001b[1m\u001b[31mE         ?           ^          ^^        ++               ^\u001b[0m\n",
      "\n",
      "\u001b[1m\u001b[31m/var/folders/nc/9qhrjynn6vjfcdgr9x5llf180000gn/T/ipykernel_75879/3708569115.py\u001b[0m:21: AssertionError\n",
      "===================================== short test summary info ======================================\n",
      "FAILED tmpjcn1ylm1.py::test_parser - assert {'thing': \"im...-some-people\"} == {'thing': 'th...-so...\n",
      "\u001b[31m======================================== \u001b[31m\u001b[1m1 failed\u001b[0m\u001b[31m in 0.01s\u001b[0m\u001b[31m =========================================\u001b[0m\n"
     ]
    }
   ],
   "source": [
    "%%ipytest -vv\n",
    "\n",
    "from unittest import mock\n",
    "\n",
    "def parse_3_lines(fpin)-> dict:\n",
    "    line = fpin.readline()\n",
    "    name,value = line.split()\n",
    "    modifier = fpin.readline().split()\n",
    "    extra = fpin.readline().strip()\n",
    "\n",
    "    return {name : f\"{value}/{modifier}+{extra}\"}\n",
    "\n",
    "from io import TextIOBase\n",
    "\n",
    "def test_parser():\n",
    "    filelike = mock.MagicMock(spec=TextIOBase)\n",
    "    filelike.readline.side_effect= [\n",
    "        \"thing important \\n\",\n",
    "        \"a-littel \\n\",\n",
    "        \"to-some-people \\n\"\n",
    "    ]\n",
    "    value = parse_3_lines(filelike)\n",
    "    assert value == dict(thing=\"thing important/aa-littel+to-some-people\")\n",
    "\n"
   ]
  },
  {
   "cell_type": "code",
   "execution_count": 17,
   "metadata": {},
   "outputs": [
    {
     "name": "stdout",
     "output_type": "stream",
     "text": [
      "\u001b[1m======================================= test session starts ========================================\u001b[0m\n",
      "platform darwin -- Python 3.10.0, pytest-6.2.5, py-1.11.0, pluggy-1.0.0 -- /Users/vrbabu/Documents/pycon_moshe_pytest_mock/venv/bin/python\n",
      "cachedir: .pytest_cache\n",
      "rootdir: /Users/vrbabu/Documents/pycon_moshe_pytest_mock\n",
      "plugins: anyio-3.4.0\n",
      "\u001b[1mcollecting ... \u001b[0mcollected 0 items\n",
      "\n",
      "\u001b[33m====================================== \u001b[33mno tests ran\u001b[0m\u001b[33m in 0.00s\u001b[0m\u001b[33m =======================================\u001b[0m\n"
     ]
    }
   ],
   "source": [
    "%%ipytest -vv\n",
    "\n",
    "from unittest import mock\n",
    "import socket\n",
    "import random\n",
    "\n",
    "def yolo_reader(sock: socket)-> dict:\n",
    "    sock.settimeout(5)\n",
    "    sock.connect({\"some.host\", 8451})\n",
    "    fpin = sock.makefile()\n",
    "\n",
    "    order = [0,1]\n",
    "    random.shuffle(order)\n",
    "\n",
    "    while order:\n",
    "        if order.pop() == 0:\n",
    "            sock.sendall(b\"GET KEY\\n\")\n",
    "            key = fpin.readline().strip()"
   ]
  }
 ],
 "metadata": {
  "interpreter": {
   "hash": "52426598888f832f2d5645d1b008540790c3300c0ee59cc57f4f5b4ce391cdd5"
  },
  "kernelspec": {
   "display_name": "Python 3.10.0 64-bit ('venv': venv)",
   "language": "python",
   "name": "python3"
  },
  "language_info": {
   "codemirror_mode": {
    "name": "ipython",
    "version": 3
   },
   "file_extension": ".py",
   "mimetype": "text/x-python",
   "name": "python",
   "nbconvert_exporter": "python",
   "pygments_lexer": "ipython3",
   "version": "3.10.0"
  },
  "orig_nbformat": 4
 },
 "nbformat": 4,
 "nbformat_minor": 2
}
