{
 "cells": [
  {
   "cell_type": "code",
   "execution_count": 13,
   "metadata": {},
   "outputs": [
    {
     "name": "stdout",
     "output_type": "stream",
     "text": [
      "Your Python is /Users/vrbabu/Documents/pycon_moshe_pytest_mock/venv/bin/python\n",
      "Your virtual environment is /Users/vrbabu/Documents/pycon_moshe_pytest_mock/venv\n"
     ]
    }
   ],
   "source": [
    "import pathlib, sys\n",
    "\n",
    "print(f\"Your Python is {pathlib.Path(sys.executable)}\")\n",
    "print(f\"Your virtual environment is {pathlib.Path(sys.executable).parent.parent}\")"
   ]
  },
  {
   "cell_type": "code",
   "execution_count": 14,
   "metadata": {},
   "outputs": [],
   "source": [
    "import ipytest\n",
    "ipytest.autoconfig()"
   ]
  },
  {
   "cell_type": "code",
   "execution_count": 18,
   "metadata": {},
   "outputs": [
    {
     "name": "stdout",
     "output_type": "stream",
     "text": [
      "\u001b[31mF\u001b[0m\u001b[31mF\u001b[0m\u001b[31m                                                                                           [100%]\u001b[0m\n",
      "============================================= FAILURES =============================================\n",
      "\u001b[31m\u001b[1m________________________________________ test_something[1] _________________________________________\u001b[0m\n",
      "\n",
      "value = 1\n",
      "\n",
      "    \u001b[37m@pytest\u001b[39;49;00m.mark.parametrize(\u001b[33m'\u001b[39;49;00m\u001b[33mvalue\u001b[39;49;00m\u001b[33m'\u001b[39;49;00m, [\u001b[94m1\u001b[39;49;00m,\u001b[94m2\u001b[39;49;00m])\n",
      "    \u001b[94mdef\u001b[39;49;00m \u001b[92mtest_something\u001b[39;49;00m(value):\n",
      ">       \u001b[94massert\u001b[39;49;00m value != value\n",
      "\u001b[1m\u001b[31mE       assert 1 != 1\u001b[0m\n",
      "\n",
      "\u001b[1m\u001b[31m/var/folders/nc/9qhrjynn6vjfcdgr9x5llf180000gn/T/ipykernel_29755/4291873930.py\u001b[0m:8: AssertionError\n",
      "\u001b[31m\u001b[1m________________________________________ test_something[2] _________________________________________\u001b[0m\n",
      "\n",
      "value = 2\n",
      "\n",
      "    \u001b[37m@pytest\u001b[39;49;00m.mark.parametrize(\u001b[33m'\u001b[39;49;00m\u001b[33mvalue\u001b[39;49;00m\u001b[33m'\u001b[39;49;00m, [\u001b[94m1\u001b[39;49;00m,\u001b[94m2\u001b[39;49;00m])\n",
      "    \u001b[94mdef\u001b[39;49;00m \u001b[92mtest_something\u001b[39;49;00m(value):\n",
      ">       \u001b[94massert\u001b[39;49;00m value != value\n",
      "\u001b[1m\u001b[31mE       assert 2 != 2\u001b[0m\n",
      "\n",
      "\u001b[1m\u001b[31m/var/folders/nc/9qhrjynn6vjfcdgr9x5llf180000gn/T/ipykernel_29755/4291873930.py\u001b[0m:8: AssertionError\n",
      "===================================== short test summary info ======================================\n",
      "FAILED tmpbs2hw5w1.py::test_something[1] - assert 1 != 1\n",
      "FAILED tmpbs2hw5w1.py::test_something[2] - assert 2 != 2\n",
      "\u001b[31m\u001b[31m\u001b[1m2 failed\u001b[0m\u001b[31m in 0.02s\u001b[0m\u001b[0m\n"
     ]
    }
   ],
   "source": [
    "%%ipytest\n",
    "#%%run_pytest[clean]\n",
    "#%%run_pytest[clean] and %%run_pytest are deprecated in favor of %%ipytest. %%ipytest will clean tests, evaluate the cell and then run pytest. To disable cleaning, configure ipytest with ipytest.config(clean=False).\n",
    "\n",
    "import pytest\n",
    "\n",
    "@pytest.mark.parametrize('value', [1,2])\n",
    "def test_something(value):\n",
    "    assert value != value"
   ]
  }
 ],
 "metadata": {
  "interpreter": {
   "hash": "52426598888f832f2d5645d1b008540790c3300c0ee59cc57f4f5b4ce391cdd5"
  },
  "kernelspec": {
   "display_name": "Python 3.10.0 64-bit ('venv': venv)",
   "language": "python",
   "name": "python3"
  },
  "language_info": {
   "codemirror_mode": {
    "name": "ipython",
    "version": 3
   },
   "file_extension": ".py",
   "mimetype": "text/x-python",
   "name": "python",
   "nbconvert_exporter": "python",
   "pygments_lexer": "ipython3",
   "version": "3.10.0"
  },
  "orig_nbformat": 4
 },
 "nbformat": 4,
 "nbformat_minor": 2
}
