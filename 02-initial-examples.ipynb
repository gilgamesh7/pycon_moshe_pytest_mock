{
 "cells": [
  {
   "cell_type": "code",
   "execution_count": 1,
   "metadata": {},
   "outputs": [],
   "source": [
    "import ipytest\n",
    "ipytest.autoconfig()"
   ]
  },
  {
   "cell_type": "code",
   "execution_count": 4,
   "metadata": {},
   "outputs": [
    {
     "name": "stdout",
     "output_type": "stream",
     "text": [
      "\u001b[1m======================================= test session starts ========================================\u001b[0m\n",
      "platform darwin -- Python 3.10.0, pytest-6.2.5, py-1.11.0, pluggy-1.0.0 -- /Users/vrbabu/Documents/pycon_moshe_pytest_mock/venv/bin/python\n",
      "cachedir: .pytest_cache\n",
      "rootdir: /Users/vrbabu/Documents/pycon_moshe_pytest_mock\n",
      "plugins: anyio-3.4.0\n",
      "\u001b[1mcollecting ... \u001b[0mcollected 0 items\n",
      "\n",
      "\u001b[33m====================================== \u001b[33mno tests ran\u001b[0m\u001b[33m in 0.00s\u001b[0m\u001b[33m =======================================\u001b[0m\n"
     ]
    }
   ],
   "source": [
    "%%ipytest -vv\n",
    "\n",
    "## Tests have ti start with Test_\n",
    "def checksomething():\n",
    "    assert 1 == 1"
   ]
  },
  {
   "cell_type": "markdown",
   "metadata": {},
   "source": [
    "# How does assert work (no pytest)"
   ]
  },
  {
   "cell_type": "code",
   "execution_count": 5,
   "metadata": {},
   "outputs": [
    {
     "name": "stdout",
     "output_type": "stream",
     "text": [
      "\u001b[1m======================================= test session starts ========================================\u001b[0m\n",
      "platform darwin -- Python 3.10.0, pytest-6.2.5, py-1.11.0, pluggy-1.0.0 -- /Users/vrbabu/Documents/pycon_moshe_pytest_mock/venv/bin/python\n",
      "cachedir: .pytest_cache\n",
      "rootdir: /Users/vrbabu/Documents/pycon_moshe_pytest_mock\n",
      "plugins: anyio-3.4.0\n",
      "\u001b[1mcollecting ... \u001b[0mcollected 1 item\n",
      "\n",
      "tmp4ccwd0pj.py::test_checksomething \u001b[32mPASSED\u001b[0m\u001b[32m                                                   [100%]\u001b[0m\n",
      "\n",
      "\u001b[32m======================================== \u001b[32m\u001b[1m1 passed\u001b[0m\u001b[32m in 0.01s\u001b[0m\u001b[32m =========================================\u001b[0m\n"
     ]
    }
   ],
   "source": [
    "%%ipytest -vv\n",
    "\n",
    "def test_checksomething():\n",
    "    assert 1 == 1"
   ]
  },
  {
   "cell_type": "code",
   "execution_count": 7,
   "metadata": {},
   "outputs": [
    {
     "name": "stdout",
     "output_type": "stream",
     "text": [
      "Maths is still OK\n",
      "assert 1 == 0\n",
      "AssertionError('Maths is still OK\\nassert 1 == 0')\n"
     ]
    }
   ],
   "source": [
    "try:\n",
    "    assert 1 == 0, \"Maths is still OK\"\n",
    "except Exception as err:    \n",
    "    print(err)\n",
    "    print(repr(err))"
   ]
  },
  {
   "cell_type": "code",
   "execution_count": 8,
   "metadata": {},
   "outputs": [],
   "source": [
    "try:\n",
    "    assert 1 == 1, \"Maths is weird\"\n",
    "except Exception as err:    \n",
    "    print(err)\n",
    "    print(repr(err))"
   ]
  },
  {
   "cell_type": "markdown",
   "metadata": {},
   "source": [
    "# How pytest handles assertions"
   ]
  },
  {
   "cell_type": "code",
   "execution_count": 14,
   "metadata": {},
   "outputs": [
    {
     "name": "stdout",
     "output_type": "stream",
     "text": [
      "\u001b[1m======================================= test session starts ========================================\u001b[0m\n",
      "platform darwin -- Python 3.10.0, pytest-6.2.5, py-1.11.0, pluggy-1.0.0\n",
      "rootdir: /Users/vrbabu/Documents/pycon_moshe_pytest_mock\n",
      "plugins: anyio-3.4.0\n",
      "collected 3 items\n",
      "\n",
      "tmphr93bfjh.py \u001b[31mF\u001b[0m\u001b[31mF\u001b[0m\u001b[32m.\u001b[0m\u001b[31m                                                                           [100%]\u001b[0m\n",
      "\n",
      "============================================= FAILURES =============================================\n",
      "\u001b[31m\u001b[1m____________________________________________ test_math _____________________________________________\u001b[0m\n",
      "\n",
      "    \u001b[94mdef\u001b[39;49;00m \u001b[92mtest_math\u001b[39;49;00m():\n",
      ">       \u001b[94massert\u001b[39;49;00m \u001b[94m1\u001b[39;49;00m == \u001b[94m0\u001b[39;49;00m\n",
      "\u001b[1m\u001b[31mE       assert 1 == 0\u001b[0m\n",
      "\n",
      "\u001b[1m\u001b[31m/var/folders/nc/9qhrjynn6vjfcdgr9x5llf180000gn/T/ipykernel_40738/2622879178.py\u001b[0m:2: AssertionError\n",
      "\u001b[31m\u001b[1m___________________________________________ test_anorher ___________________________________________\u001b[0m\n",
      "\n",
      "    \u001b[94mdef\u001b[39;49;00m \u001b[92mtest_anorher\u001b[39;49;00m():\n",
      ">       \u001b[94massert\u001b[39;49;00m \u001b[94m1\u001b[39;49;00m/\u001b[94m0\u001b[39;49;00m == \u001b[94m1\u001b[39;49;00m\n",
      "\u001b[1m\u001b[31mE       ZeroDivisionError: division by zero\u001b[0m\n",
      "\n",
      "\u001b[1m\u001b[31m/var/folders/nc/9qhrjynn6vjfcdgr9x5llf180000gn/T/ipykernel_40738/2622879178.py\u001b[0m:5: ZeroDivisionError\n",
      "===================================== short test summary info ======================================\n",
      "FAILED tmphr93bfjh.py::test_math - assert 1 == 0\n",
      "FAILED tmphr93bfjh.py::test_anorher - ZeroDivisionError: division by zero\n",
      "\u001b[31m=================================== \u001b[31m\u001b[1m2 failed\u001b[0m, \u001b[32m1 passed\u001b[0m\u001b[31m in 0.01s\u001b[0m\u001b[31m ====================================\u001b[0m\n"
     ]
    }
   ],
   "source": [
    "%%ipytest -v\n",
    "\n",
    "def test_math():\n",
    "    assert 1 == 0\n",
    "\n",
    "def test_anorher():\n",
    "    assert 1/0 == 1\n",
    "\n",
    "def test_ok():\n",
    "    assert True"
   ]
  },
  {
   "cell_type": "markdown",
   "metadata": {},
   "source": [
    "## Example test for equality"
   ]
  },
  {
   "cell_type": "code",
   "execution_count": 16,
   "metadata": {},
   "outputs": [
    {
     "name": "stdout",
     "output_type": "stream",
     "text": [
      "\u001b[1m======================================= test session starts ========================================\u001b[0m\n",
      "platform darwin -- Python 3.10.0, pytest-6.2.5, py-1.11.0, pluggy-1.0.0\n",
      "rootdir: /Users/vrbabu/Documents/pycon_moshe_pytest_mock\n",
      "plugins: anyio-3.4.0\n",
      "collected 1 item\n",
      "\n",
      "tmpmona_j26.py \u001b[31mF\u001b[0m\u001b[31m                                                                             [100%]\u001b[0m\n",
      "\n",
      "============================================= FAILURES =============================================\n",
      "\u001b[31m\u001b[1m_____________________________________________ test_add _____________________________________________\u001b[0m\n",
      "\n",
      "    \u001b[94mdef\u001b[39;49;00m \u001b[92mtest_add\u001b[39;49;00m():\n",
      ">       \u001b[94massert\u001b[39;49;00m add(\u001b[94m3\u001b[39;49;00m,\u001b[94m4\u001b[39;49;00m) == \u001b[94m7\u001b[39;49;00m\n",
      "\u001b[1m\u001b[31mE       assert 8 == 7\u001b[0m\n",
      "\u001b[1m\u001b[31mE        +  where 8 = add(3, 4)\u001b[0m\n",
      "\n",
      "\u001b[1m\u001b[31m/var/folders/nc/9qhrjynn6vjfcdgr9x5llf180000gn/T/ipykernel_40738/3423468895.py\u001b[0m:9: AssertionError\n",
      "===================================== short test summary info ======================================\n",
      "FAILED tmpmona_j26.py::test_add - assert 8 == 7\n",
      "\u001b[31m======================================== \u001b[31m\u001b[1m1 failed\u001b[0m\u001b[31m in 0.01s\u001b[0m\u001b[31m =========================================\u001b[0m\n"
     ]
    }
   ],
   "source": [
    "%%ipytest -v\n",
    "\n",
    "def add(a:int, b:int)-> int:\n",
    "    result = 1\n",
    "    result += a\n",
    "    result += b\n",
    "\n",
    "    return result\n",
    "\n",
    "def test_add():\n",
    "    assert add(3,4) == 7"
   ]
  },
  {
   "cell_type": "code",
   "execution_count": 22,
   "metadata": {},
   "outputs": [
    {
     "name": "stdout",
     "output_type": "stream",
     "text": [
      "\u001b[1m======================================= test session starts ========================================\u001b[0m\n",
      "platform darwin -- Python 3.10.0, pytest-6.2.5, py-1.11.0, pluggy-1.0.0 -- /Users/vrbabu/Documents/pycon_moshe_pytest_mock/venv/bin/python\n",
      "cachedir: .pytest_cache\n",
      "rootdir: /Users/vrbabu/Documents/pycon_moshe_pytest_mock\n",
      "plugins: anyio-3.4.0\n",
      "\u001b[1mcollecting ... \u001b[0mcollected 2 items\n",
      "\n",
      "tmpzvfnox_v.py::test_safe_remove_no \u001b[32mPASSED\u001b[0m\u001b[32m                                                   [ 50%]\u001b[0m\n",
      "tmpzvfnox_v.py::test_safe_remove_yes \u001b[32mPASSED\u001b[0m\u001b[32m                                                  [100%]\u001b[0m\n",
      "\n",
      "\u001b[32m======================================== \u001b[32m\u001b[1m2 passed\u001b[0m\u001b[32m in 0.01s\u001b[0m\u001b[32m =========================================\u001b[0m\n"
     ]
    }
   ],
   "source": [
    "%%ipytest -vv\n",
    "\n",
    "def safe_remove(a: dict,b:int)-> None:\n",
    "    # pass # Line to be fixed\n",
    "    a.pop(b, None)\n",
    "    \n",
    "\n",
    "def test_safe_remove_no():\n",
    "    things = {1:\"yes\", 2:\"no\"}\n",
    "    safe_remove(things, 3)\n",
    "    assert 1 in things\n",
    "\n",
    "def test_safe_remove_yes():\n",
    "    things = {1:\"yes\", 2:\"no\"}\n",
    "    safe_remove(things, 2)\n",
    "    assert 2 not in things\n"
   ]
  }
 ],
 "metadata": {
  "interpreter": {
   "hash": "52426598888f832f2d5645d1b008540790c3300c0ee59cc57f4f5b4ce391cdd5"
  },
  "kernelspec": {
   "display_name": "Python 3.10.0 64-bit ('venv': venv)",
   "language": "python",
   "name": "python3"
  },
  "language_info": {
   "codemirror_mode": {
    "name": "ipython",
    "version": 3
   },
   "file_extension": ".py",
   "mimetype": "text/x-python",
   "name": "python",
   "nbconvert_exporter": "python",
   "pygments_lexer": "ipython3",
   "version": "3.10.0"
  },
  "orig_nbformat": 4
 },
 "nbformat": 4,
 "nbformat_minor": 2
}
