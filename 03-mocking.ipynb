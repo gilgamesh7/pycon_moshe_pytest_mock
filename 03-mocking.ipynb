{
 "cells": [
  {
   "cell_type": "code",
   "execution_count": 2,
   "metadata": {},
   "outputs": [],
   "source": [
    "import ipytest\n",
    "ipytest.autoconfig()"
   ]
  },
  {
   "cell_type": "markdown",
   "metadata": {},
   "source": [
    "## Intentionally raise error"
   ]
  },
  {
   "cell_type": "code",
   "execution_count": 4,
   "metadata": {},
   "outputs": [
    {
     "name": "stdout",
     "output_type": "stream",
     "text": [
      "\u001b[1m======================================= test session starts ========================================\u001b[0m\n",
      "platform darwin -- Python 3.10.0, pytest-6.2.5, py-1.11.0, pluggy-1.0.0 -- /Users/vrbabu/Documents/pycon_moshe_pytest_mock/venv/bin/python\n",
      "cachedir: .pytest_cache\n",
      "rootdir: /Users/vrbabu/Documents/pycon_moshe_pytest_mock\n",
      "plugins: anyio-3.4.0\n",
      "\u001b[1mcollecting ... \u001b[0mcollected 1 item\n",
      "\n",
      "tmpfwuc2w6z.py::test_value \u001b[31mFAILED\u001b[0m\u001b[31m                                                            [100%]\u001b[0m\n",
      "\n",
      "============================================= FAILURES =============================================\n",
      "\u001b[31m\u001b[1m____________________________________________ test_value ____________________________________________\u001b[0m\n",
      "\n",
      "    \u001b[94mdef\u001b[39;49;00m \u001b[92mtest_value\u001b[39;49;00m():\n",
      ">       raise_value_error(mock.MagicMock())\n",
      "\n",
      "\u001b[1m\u001b[31m/var/folders/nc/9qhrjynn6vjfcdgr9x5llf180000gn/T/ipykernel_61338/4231118601.py\u001b[0m:7: \n",
      "_ _ _ _ _ _ _ _ _ _ _ _ _ _ _ _ _ _ _ _ _ _ _ _ _ _ _ _ _ _ _ _ _ _ _ _ _ _ _ _ _ _ _ _ _ _ _ _ _ _ \n",
      "\n",
      "x = <MagicMock id='4733707424'>\n",
      "\n",
      "    \u001b[94mdef\u001b[39;49;00m \u001b[92mraise_value_error\u001b[39;49;00m(x):\n",
      ">       \u001b[94mraise\u001b[39;49;00m \u001b[96mValueError\u001b[39;49;00m(x)\n",
      "\u001b[1m\u001b[31mE       ValueError: <MagicMock id='4733707424'>\u001b[0m\n",
      "\n",
      "\u001b[1m\u001b[31m/var/folders/nc/9qhrjynn6vjfcdgr9x5llf180000gn/T/ipykernel_61338/4231118601.py\u001b[0m:4: ValueError\n",
      "===================================== short test summary info ======================================\n",
      "FAILED tmpfwuc2w6z.py::test_value - ValueError: <MagicMock id='4733707424'>\n",
      "\u001b[31m======================================== \u001b[31m\u001b[1m1 failed\u001b[0m\u001b[31m in 0.07s\u001b[0m\u001b[31m =========================================\u001b[0m\n"
     ]
    }
   ],
   "source": [
    "%%ipytest -vv\n",
    "\n",
    "from unittest import mock\n",
    "\n",
    "def raise_value_error(x):\n",
    "    raise ValueError(x)\n",
    "\n",
    "def test_value():\n",
    "    raise_value_error(mock.MagicMock())"
   ]
  },
  {
   "cell_type": "markdown",
   "metadata": {},
   "source": [
    "## Some default values"
   ]
  },
  {
   "cell_type": "code",
   "execution_count": 5,
   "metadata": {},
   "outputs": [
    {
     "name": "stdout",
     "output_type": "stream",
     "text": [
      "\u001b[1m======================================= test session starts ========================================\u001b[0m\n",
      "platform darwin -- Python 3.10.0, pytest-6.2.5, py-1.11.0, pluggy-1.0.0 -- /Users/vrbabu/Documents/pycon_moshe_pytest_mock/venv/bin/python\n",
      "cachedir: .pytest_cache\n",
      "rootdir: /Users/vrbabu/Documents/pycon_moshe_pytest_mock\n",
      "plugins: anyio-3.4.0\n",
      "\u001b[1mcollecting ... \u001b[0mcollected 1 item\n",
      "\n",
      "tmp5z057pkw.py::test_value \u001b[31mFAILED\u001b[0m\u001b[31m                                                            [100%]\u001b[0m\n",
      "\n",
      "============================================= FAILURES =============================================\n",
      "\u001b[31m\u001b[1m____________________________________________ test_value ____________________________________________\u001b[0m\n",
      "\n",
      "    \u001b[94mdef\u001b[39;49;00m \u001b[92mtest_value\u001b[39;49;00m():\n",
      ">       raise_value_error(mock.MagicMock())\n",
      "\n",
      "\u001b[1m\u001b[31m/var/folders/nc/9qhrjynn6vjfcdgr9x5llf180000gn/T/ipykernel_61338/3958107920.py\u001b[0m:7: \n",
      "_ _ _ _ _ _ _ _ _ _ _ _ _ _ _ _ _ _ _ _ _ _ _ _ _ _ _ _ _ _ _ _ _ _ _ _ _ _ _ _ _ _ _ _ _ _ _ _ _ _ \n",
      "\n",
      "x = <MagicMock id='4734484640'>\n",
      "\n",
      "    \u001b[94mdef\u001b[39;49;00m \u001b[92mraise_value_error\u001b[39;49;00m(x):\n",
      ">       \u001b[94mraise\u001b[39;49;00m \u001b[96mValueError\u001b[39;49;00m(x.some_name)\n",
      "\u001b[1m\u001b[31mE       ValueError: <MagicMock name='mock.some_name' id='4734492560'>\u001b[0m\n",
      "\n",
      "\u001b[1m\u001b[31m/var/folders/nc/9qhrjynn6vjfcdgr9x5llf180000gn/T/ipykernel_61338/3958107920.py\u001b[0m:4: ValueError\n",
      "===================================== short test summary info ======================================\n",
      "FAILED tmp5z057pkw.py::test_value - ValueError: <MagicMock name='mock.some_name' id='4734492560'>\n",
      "\u001b[31m======================================== \u001b[31m\u001b[1m1 failed\u001b[0m\u001b[31m in 0.01s\u001b[0m\u001b[31m =========================================\u001b[0m\n"
     ]
    }
   ],
   "source": [
    "%%ipytest -vv\n",
    "\n",
    "from unittest import mock\n",
    "\n",
    "def raise_value_error(x):\n",
    "    raise ValueError(x.some_name)\n",
    "\n",
    "def test_value():\n",
    "    raise_value_error(mock.MagicMock())"
   ]
  },
  {
   "cell_type": "code",
   "execution_count": 6,
   "metadata": {},
   "outputs": [
    {
     "name": "stdout",
     "output_type": "stream",
     "text": [
      "\u001b[1m======================================= test session starts ========================================\u001b[0m\n",
      "platform darwin -- Python 3.10.0, pytest-6.2.5, py-1.11.0, pluggy-1.0.0 -- /Users/vrbabu/Documents/pycon_moshe_pytest_mock/venv/bin/python\n",
      "cachedir: .pytest_cache\n",
      "rootdir: /Users/vrbabu/Documents/pycon_moshe_pytest_mock\n",
      "plugins: anyio-3.4.0\n",
      "\u001b[1mcollecting ... \u001b[0mcollected 1 item\n",
      "\n",
      "tmp2k_pumr2.py::test_consistent \u001b[31mFAILED\u001b[0m\u001b[31m                                                       [100%]\u001b[0m\n",
      "\n",
      "============================================= FAILURES =============================================\n",
      "\u001b[31m\u001b[1m_________________________________________ test_consistent __________________________________________\u001b[0m\n",
      "\n",
      "    \u001b[94mdef\u001b[39;49;00m \u001b[92mtest_consistent\u001b[39;49;00m():\n",
      "        my_object = mock.MagicMock()\n",
      "    \n",
      ">       \u001b[94massert\u001b[39;49;00m my_object.some_name \u001b[95mis\u001b[39;49;00m \u001b[95mnot\u001b[39;49;00m my_object.some_name\n",
      "\u001b[1m\u001b[31mE       AssertionError: assert <MagicMock name='mock.some_name' id='4733706224'> is not <MagicMock name='mock.some_name' id='4733706224'>\u001b[0m\n",
      "\u001b[1m\u001b[31mE        +  where <MagicMock name='mock.some_name' id='4733706224'> = <MagicMock id='4733755232'>.some_name\u001b[0m\n",
      "\u001b[1m\u001b[31mE        +  and   <MagicMock name='mock.some_name' id='4733706224'> = <MagicMock id='4733755232'>.some_name\u001b[0m\n",
      "\n",
      "\u001b[1m\u001b[31m/var/folders/nc/9qhrjynn6vjfcdgr9x5llf180000gn/T/ipykernel_61338/3527824976.py\u001b[0m:6: AssertionError\n",
      "===================================== short test summary info ======================================\n",
      "FAILED tmp2k_pumr2.py::test_consistent - AssertionError: assert <MagicMock name='mock.some_name' ...\n",
      "\u001b[31m======================================== \u001b[31m\u001b[1m1 failed\u001b[0m\u001b[31m in 0.01s\u001b[0m\u001b[31m =========================================\u001b[0m\n"
     ]
    }
   ],
   "source": [
    "%%ipytest -vv\n",
    "\n",
    "from unittest import mock\n",
    "\n",
    "def test_consistent():\n",
    "    my_object = mock.MagicMock()\n",
    "\n",
    "    assert my_object.some_name is not my_object.some_name"
   ]
  },
  {
   "cell_type": "markdown",
   "metadata": {},
   "source": [
    "## Calling a mock"
   ]
  },
  {
   "cell_type": "code",
   "execution_count": 7,
   "metadata": {},
   "outputs": [
    {
     "name": "stdout",
     "output_type": "stream",
     "text": [
      "\u001b[1m======================================= test session starts ========================================\u001b[0m\n",
      "platform darwin -- Python 3.10.0, pytest-6.2.5, py-1.11.0, pluggy-1.0.0 -- /Users/vrbabu/Documents/pycon_moshe_pytest_mock/venv/bin/python\n",
      "cachedir: .pytest_cache\n",
      "rootdir: /Users/vrbabu/Documents/pycon_moshe_pytest_mock\n",
      "plugins: anyio-3.4.0\n",
      "\u001b[1mcollecting ... \u001b[0mcollected 1 item\n",
      "\n",
      "tmpy_s65o7p.py::test_raise_call \u001b[31mFAILED\u001b[0m\u001b[31m                                                       [100%]\u001b[0m\n",
      "\n",
      "============================================= FAILURES =============================================\n",
      "\u001b[31m\u001b[1m_________________________________________ test_raise_call __________________________________________\u001b[0m\n",
      "\n",
      "    \u001b[94mdef\u001b[39;49;00m \u001b[92mtest_raise_call\u001b[39;49;00m():\n",
      ">       raise_call(mock.MagicMock())\n",
      "\n",
      "\u001b[1m\u001b[31m/var/folders/nc/9qhrjynn6vjfcdgr9x5llf180000gn/T/ipykernel_61338/165702740.py\u001b[0m:7: \n",
      "_ _ _ _ _ _ _ _ _ _ _ _ _ _ _ _ _ _ _ _ _ _ _ _ _ _ _ _ _ _ _ _ _ _ _ _ _ _ _ _ _ _ _ _ _ _ _ _ _ _ \n",
      "\n",
      "x = <MagicMock id='4735158976'>\n",
      "\n",
      "    \u001b[94mdef\u001b[39;49;00m \u001b[92mraise_call\u001b[39;49;00m(x):\n",
      ">       \u001b[94mraise\u001b[39;49;00m \u001b[96mValueError\u001b[39;49;00m(x())\n",
      "\u001b[1m\u001b[31mE       ValueError: <MagicMock name='mock()' id='4735166464'>\u001b[0m\n",
      "\n",
      "\u001b[1m\u001b[31m/var/folders/nc/9qhrjynn6vjfcdgr9x5llf180000gn/T/ipykernel_61338/165702740.py\u001b[0m:4: ValueError\n",
      "===================================== short test summary info ======================================\n",
      "FAILED tmpy_s65o7p.py::test_raise_call - ValueError: <MagicMock name='mock()' id='4735166464'>\n",
      "\u001b[31m======================================== \u001b[31m\u001b[1m1 failed\u001b[0m\u001b[31m in 0.01s\u001b[0m\u001b[31m =========================================\u001b[0m\n"
     ]
    }
   ],
   "source": [
    "%%ipytest -vv\n",
    "\n",
    "from unittest import mock\n",
    "\n",
    "def raise_call(x):\n",
    "    raise ValueError(x())\n",
    "\n",
    "def test_raise_call():\n",
    "    raise_call(mock.MagicMock())"
   ]
  },
  {
   "cell_type": "code",
   "execution_count": 8,
   "metadata": {},
   "outputs": [
    {
     "name": "stdout",
     "output_type": "stream",
     "text": [
      "\u001b[1m======================================= test session starts ========================================\u001b[0m\n",
      "platform darwin -- Python 3.10.0, pytest-6.2.5, py-1.11.0, pluggy-1.0.0 -- /Users/vrbabu/Documents/pycon_moshe_pytest_mock/venv/bin/python\n",
      "cachedir: .pytest_cache\n",
      "rootdir: /Users/vrbabu/Documents/pycon_moshe_pytest_mock\n",
      "plugins: anyio-3.4.0\n",
      "\u001b[1mcollecting ... \u001b[0mcollected 1 item\n",
      "\n",
      "tmpep12j2ia.py::test_consistent \u001b[31mFAILED\u001b[0m\u001b[31m                                                       [100%]\u001b[0m\n",
      "\n",
      "============================================= FAILURES =============================================\n",
      "\u001b[31m\u001b[1m_________________________________________ test_consistent __________________________________________\u001b[0m\n",
      "\n",
      "    \u001b[94mdef\u001b[39;49;00m \u001b[92mtest_consistent\u001b[39;49;00m():\n",
      "        my_object = mock.MagicMock()\n",
      "    \n",
      ">       \u001b[94massert\u001b[39;49;00m my_object() \u001b[95mis\u001b[39;49;00m \u001b[95mnot\u001b[39;49;00m my_object()\n",
      "\u001b[1m\u001b[31mE       AssertionError: assert <MagicMock name='mock()' id='4733755040'> is not <MagicMock name='mock()' id='4733755040'>\u001b[0m\n",
      "\u001b[1m\u001b[31mE        +  where <MagicMock name='mock()' id='4733755040'> = <MagicMock id='4733714192'>()\u001b[0m\n",
      "\u001b[1m\u001b[31mE        +  and   <MagicMock name='mock()' id='4733755040'> = <MagicMock id='4733714192'>()\u001b[0m\n",
      "\n",
      "\u001b[1m\u001b[31m/var/folders/nc/9qhrjynn6vjfcdgr9x5llf180000gn/T/ipykernel_61338/2669905592.py\u001b[0m:6: AssertionError\n",
      "===================================== short test summary info ======================================\n",
      "FAILED tmpep12j2ia.py::test_consistent - AssertionError: assert <MagicMock name='mock()' id='4733...\n",
      "\u001b[31m======================================== \u001b[31m\u001b[1m1 failed\u001b[0m\u001b[31m in 0.01s\u001b[0m\u001b[31m =========================================\u001b[0m\n"
     ]
    }
   ],
   "source": [
    "%%ipytest -vv\n",
    "\n",
    "from unittest import mock\n",
    "\n",
    "def test_consistent():\n",
    "    my_object = mock.MagicMock()\n",
    "\n",
    "    assert my_object() is not my_object()"
   ]
  },
  {
   "cell_type": "markdown",
   "metadata": {},
   "source": [
    "## Mock methods"
   ]
  },
  {
   "cell_type": "code",
   "execution_count": 10,
   "metadata": {},
   "outputs": [
    {
     "name": "stdout",
     "output_type": "stream",
     "text": [
      "\u001b[1m======================================= test session starts ========================================\u001b[0m\n",
      "platform darwin -- Python 3.10.0, pytest-6.2.5, py-1.11.0, pluggy-1.0.0 -- /Users/vrbabu/Documents/pycon_moshe_pytest_mock/venv/bin/python\n",
      "cachedir: .pytest_cache\n",
      "rootdir: /Users/vrbabu/Documents/pycon_moshe_pytest_mock\n",
      "plugins: anyio-3.4.0\n",
      "\u001b[1mcollecting ... \u001b[0mcollected 1 item\n",
      "\n",
      "tmp7db5xdcm.py::test_raise_deep \u001b[31mFAILED\u001b[0m\u001b[31m                                                       [100%]\u001b[0m\n",
      "\n",
      "============================================= FAILURES =============================================\n",
      "\u001b[31m\u001b[1m_________________________________________ test_raise_deep __________________________________________\u001b[0m\n",
      "\n",
      "    \u001b[94mdef\u001b[39;49;00m \u001b[92mtest_raise_deep\u001b[39;49;00m():\n",
      ">       raise_call(mock.MagicMock())\n",
      "\n",
      "\u001b[1m\u001b[31m/var/folders/nc/9qhrjynn6vjfcdgr9x5llf180000gn/T/ipykernel_61338/3737752289.py\u001b[0m:8: \n",
      "_ _ _ _ _ _ _ _ _ _ _ _ _ _ _ _ _ _ _ _ _ _ _ _ _ _ _ _ _ _ _ _ _ _ _ _ _ _ _ _ _ _ _ _ _ _ _ _ _ _ \n",
      "\n",
      "x = <MagicMock id='4736004832'>\n",
      "\n",
      "    \u001b[94mdef\u001b[39;49;00m \u001b[92mraise_call\u001b[39;49;00m(x):\n",
      "        val = x.some_method()\n",
      ">       \u001b[94mraise\u001b[39;49;00m \u001b[96mValueError\u001b[39;49;00m(val.some_attribute)\n",
      "\u001b[1m\u001b[31mE       ValueError: <MagicMock name='mock.some_method().some_attribute' id='4736241136'>\u001b[0m\n",
      "\n",
      "\u001b[1m\u001b[31m/var/folders/nc/9qhrjynn6vjfcdgr9x5llf180000gn/T/ipykernel_61338/1724948162.py\u001b[0m:5: ValueError\n",
      "===================================== short test summary info ======================================\n",
      "FAILED tmp7db5xdcm.py::test_raise_deep - ValueError: <MagicMock name='mock.some_method().some_att...\n",
      "\u001b[31m======================================== \u001b[31m\u001b[1m1 failed\u001b[0m\u001b[31m in 0.01s\u001b[0m\u001b[31m =========================================\u001b[0m\n"
     ]
    }
   ],
   "source": [
    "%%ipytest -vv\n",
    "\n",
    "from unittest import mock\n",
    "\n",
    "def raise_deep(x):\n",
    "    val = x.some_method()\n",
    "    raise ValueError(val.some_attribute)\n",
    "\n",
    "def test_raise_deep():\n",
    "    raise_call(mock.MagicMock())"
   ]
  },
  {
   "cell_type": "markdown",
   "metadata": {},
   "source": [
    "## Difference between Mock()and MagicMock()"
   ]
  },
  {
   "cell_type": "code",
   "execution_count": 13,
   "metadata": {},
   "outputs": [
    {
     "name": "stdout",
     "output_type": "stream",
     "text": [
      "\u001b[1m======================================= test session starts ========================================\u001b[0m\n",
      "platform darwin -- Python 3.10.0, pytest-6.2.5, py-1.11.0, pluggy-1.0.0 -- /Users/vrbabu/Documents/pycon_moshe_pytest_mock/venv/bin/python\n",
      "cachedir: .pytest_cache\n",
      "rootdir: /Users/vrbabu/Documents/pycon_moshe_pytest_mock\n",
      "plugins: anyio-3.4.0\n",
      "\u001b[1mcollecting ... \u001b[0mcollected 1 item\n",
      "\n",
      "tmpxavw55uv.py::test_mock \u001b[31mFAILED\u001b[0m\u001b[31m                                                             [100%]\u001b[0m\n",
      "\n",
      "============================================= FAILURES =============================================\n",
      "\u001b[31m\u001b[1m____________________________________________ test_mock _____________________________________________\u001b[0m\n",
      "\n",
      "    \u001b[94mdef\u001b[39;49;00m \u001b[92mtest_mock\u001b[39;49;00m():\n",
      "        mock_object = mock.Mock()\n",
      "    \n",
      ">       \u001b[94massert\u001b[39;49;00m mock_object+\u001b[94m1\u001b[39;49;00m == mock_object+\u001b[94m1\u001b[39;49;00m\n",
      "\u001b[1m\u001b[31mE       TypeError: unsupported operand type(s) for +: 'Mock' and 'int'\u001b[0m\n",
      "\n",
      "\u001b[1m\u001b[31m/var/folders/nc/9qhrjynn6vjfcdgr9x5llf180000gn/T/ipykernel_61338/424543463.py\u001b[0m:6: TypeError\n",
      "===================================== short test summary info ======================================\n",
      "FAILED tmpxavw55uv.py::test_mock - TypeError: unsupported operand type(s) for +: 'Mock' and 'int'\n",
      "\u001b[31m======================================== \u001b[31m\u001b[1m1 failed\u001b[0m\u001b[31m in 0.01s\u001b[0m\u001b[31m =========================================\u001b[0m\n"
     ]
    }
   ],
   "source": [
    "%%ipytest -vv\n",
    "\n",
    "from unittest import mock\n",
    "\n",
    "def test_mock():\n",
    "    mock_object = mock.Mock()\n",
    "\n",
    "    assert mock_object+1 == mock_object+1"
   ]
  },
  {
   "cell_type": "code",
   "execution_count": 15,
   "metadata": {},
   "outputs": [
    {
     "name": "stdout",
     "output_type": "stream",
     "text": [
      "\u001b[1m======================================= test session starts ========================================\u001b[0m\n",
      "platform darwin -- Python 3.10.0, pytest-6.2.5, py-1.11.0, pluggy-1.0.0 -- /Users/vrbabu/Documents/pycon_moshe_pytest_mock/venv/bin/python\n",
      "cachedir: .pytest_cache\n",
      "rootdir: /Users/vrbabu/Documents/pycon_moshe_pytest_mock\n",
      "plugins: anyio-3.4.0\n",
      "\u001b[1mcollecting ... \u001b[0mcollected 1 item\n",
      "\n",
      "tmpr15gd6cn.py::test_magic_mock \u001b[32mPASSED\u001b[0m\u001b[32m                                                       [100%]\u001b[0m\n",
      "\n",
      "\u001b[32m======================================== \u001b[32m\u001b[1m1 passed\u001b[0m\u001b[32m in 0.01s\u001b[0m\u001b[32m =========================================\u001b[0m\n"
     ]
    }
   ],
   "source": [
    "%%ipytest -vv\n",
    "\n",
    "from unittest import mock\n",
    "\n",
    "def test_magic_mock():\n",
    "    mock_object = mock.MagicMock()\n",
    "\n",
    "    assert mock_object+1 == mock_object+5"
   ]
  },
  {
   "cell_type": "markdown",
   "metadata": {},
   "source": [
    "## Naming Mocks"
   ]
  },
  {
   "cell_type": "code",
   "execution_count": 17,
   "metadata": {},
   "outputs": [
    {
     "name": "stdout",
     "output_type": "stream",
     "text": [
      "\u001b[1m======================================= test session starts ========================================\u001b[0m\n",
      "platform darwin -- Python 3.10.0, pytest-6.2.5, py-1.11.0, pluggy-1.0.0 -- /Users/vrbabu/Documents/pycon_moshe_pytest_mock/venv/bin/python\n",
      "cachedir: .pytest_cache\n",
      "rootdir: /Users/vrbabu/Documents/pycon_moshe_pytest_mock\n",
      "plugins: anyio-3.4.0\n",
      "\u001b[1mcollecting ... \u001b[0mcollected 2 items\n",
      "\n",
      "tmp5s30lfad.py::test_opaque \u001b[31mFAILED\u001b[0m\u001b[31m                                                           [ 50%]\u001b[0m\n",
      "tmp5s30lfad.py::test_clear \u001b[31mFAILED\u001b[0m\u001b[31m                                                            [100%]\u001b[0m\n",
      "\n",
      "============================================= FAILURES =============================================\n",
      "\u001b[31m\u001b[1m___________________________________________ test_opaque ____________________________________________\u001b[0m\n",
      "\n",
      "    \u001b[94mdef\u001b[39;49;00m \u001b[92mtest_opaque\u001b[39;49;00m():\n",
      "        source = mock.MagicMock()\n",
      "        target = mock.MagicMock()\n",
      "    \n",
      ">       copy_stuff(source, target)\n",
      "\n",
      "\u001b[1m\u001b[31m/var/folders/nc/9qhrjynn6vjfcdgr9x5llf180000gn/T/ipykernel_61338/158292504.py\u001b[0m:15: \n",
      "_ _ _ _ _ _ _ _ _ _ _ _ _ _ _ _ _ _ _ _ _ _ _ _ _ _ _ _ _ _ _ _ _ _ _ _ _ _ _ _ _ _ _ _ _ _ _ _ _ _ \n",
      "\u001b[1m\u001b[31m/var/folders/nc/9qhrjynn6vjfcdgr9x5llf180000gn/T/ipykernel_61338/158292504.py\u001b[0m:4: in copy_stuff\n",
      "    write_to(target, source, \u001b[94m10\u001b[39;49;00m)\n",
      "_ _ _ _ _ _ _ _ _ _ _ _ _ _ _ _ _ _ _ _ _ _ _ _ _ _ _ _ _ _ _ _ _ _ _ _ _ _ _ _ _ _ _ _ _ _ _ _ _ _ \n",
      "\n",
      "source = <MagicMock id='4739419104'>, target = <MagicMock id='4737408384'>, length = 10\n",
      "\n",
      "    \u001b[94mdef\u001b[39;49;00m \u001b[92mwrite_to\u001b[39;49;00m(source, target, length):\n",
      "        stuff = source.read()\n",
      "        target.srite(stuff)\n",
      ">       \u001b[94mraise\u001b[39;49;00m \u001b[96mValueError\u001b[39;49;00m(source, target, stuff)\n",
      "\u001b[1m\u001b[31mE       ValueError: (<MagicMock id='4739419104'>, <MagicMock id='4737408384'>, <MagicMock name='mock.read()' id='4739598272'>)\u001b[0m\n",
      "\n",
      "\u001b[1m\u001b[31m/var/folders/nc/9qhrjynn6vjfcdgr9x5llf180000gn/T/ipykernel_61338/158292504.py\u001b[0m:9: ValueError\n",
      "\u001b[31m\u001b[1m____________________________________________ test_clear ____________________________________________\u001b[0m\n",
      "\n",
      "    \u001b[94mdef\u001b[39;49;00m \u001b[92mtest_clear\u001b[39;49;00m():\n",
      "        source = mock.MagicMock(name=\u001b[33m\"\u001b[39;49;00m\u001b[33msource\u001b[39;49;00m\u001b[33m\"\u001b[39;49;00m)\n",
      "        target = mock.MagicMock(name=\u001b[33m\"\u001b[39;49;00m\u001b[33mtarget\u001b[39;49;00m\u001b[33m\"\u001b[39;49;00m)\n",
      "    \n",
      ">       copy_stuff(source, target)\n",
      "\n",
      "\u001b[1m\u001b[31m/var/folders/nc/9qhrjynn6vjfcdgr9x5llf180000gn/T/ipykernel_61338/158292504.py\u001b[0m:21: \n",
      "_ _ _ _ _ _ _ _ _ _ _ _ _ _ _ _ _ _ _ _ _ _ _ _ _ _ _ _ _ _ _ _ _ _ _ _ _ _ _ _ _ _ _ _ _ _ _ _ _ _ \n",
      "\u001b[1m\u001b[31m/var/folders/nc/9qhrjynn6vjfcdgr9x5llf180000gn/T/ipykernel_61338/158292504.py\u001b[0m:4: in copy_stuff\n",
      "    write_to(target, source, \u001b[94m10\u001b[39;49;00m)\n",
      "_ _ _ _ _ _ _ _ _ _ _ _ _ _ _ _ _ _ _ _ _ _ _ _ _ _ _ _ _ _ _ _ _ _ _ _ _ _ _ _ _ _ _ _ _ _ _ _ _ _ \n",
      "\n",
      "source = <MagicMock name='target' id='4739664864'>\n",
      "target = <MagicMock name='source' id='4739644672'>, length = 10\n",
      "\n",
      "    \u001b[94mdef\u001b[39;49;00m \u001b[92mwrite_to\u001b[39;49;00m(source, target, length):\n",
      "        stuff = source.read()\n",
      "        target.srite(stuff)\n",
      ">       \u001b[94mraise\u001b[39;49;00m \u001b[96mValueError\u001b[39;49;00m(source, target, stuff)\n",
      "\u001b[1m\u001b[31mE       ValueError: (<MagicMock name='target' id='4739664864'>, <MagicMock name='source' id='4739644672'>, <MagicMock name='target.read()' id='4739696912'>)\u001b[0m\n",
      "\n",
      "\u001b[1m\u001b[31m/var/folders/nc/9qhrjynn6vjfcdgr9x5llf180000gn/T/ipykernel_61338/158292504.py\u001b[0m:9: ValueError\n",
      "===================================== short test summary info ======================================\n",
      "FAILED tmp5s30lfad.py::test_opaque - ValueError: (<MagicMock id='4739419104'>, <MagicMock id='473...\n",
      "FAILED tmp5s30lfad.py::test_clear - ValueError: (<MagicMock name='target' id='4739664864'>, <Magi...\n",
      "\u001b[31m======================================== \u001b[31m\u001b[1m2 failed\u001b[0m\u001b[31m in 0.02s\u001b[0m\u001b[31m =========================================\u001b[0m\n"
     ]
    }
   ],
   "source": [
    "%%ipytest -vv\n",
    "\n",
    "from unittest import mock\n",
    "\n",
    "def copy_stuff(source,target):\n",
    "    write_to(target, source, 10)\n",
    "\n",
    "def write_to(source, target, length):\n",
    "    stuff = source.read()\n",
    "    target.srite(stuff)\n",
    "    raise ValueError(source, target, stuff)\n",
    "\n",
    "def test_opaque():\n",
    "    source = mock.MagicMock()\n",
    "    target = mock.MagicMock()\n",
    "\n",
    "    copy_stuff(source, target)\n",
    "\n",
    "def test_clear():\n",
    "    source = mock.MagicMock(name=\"source\")\n",
    "    target = mock.MagicMock(name=\"target\")\n",
    "\n",
    "    copy_stuff(source, target)"
   ]
  },
  {
   "cell_type": "code",
   "execution_count": 21,
   "metadata": {},
   "outputs": [
    {
     "name": "stdout",
     "output_type": "stream",
     "text": [
      "\u001b[1m======================================= test session starts ========================================\u001b[0m\n",
      "platform darwin -- Python 3.10.0, pytest-6.2.5, py-1.11.0, pluggy-1.0.0 -- /Users/vrbabu/Documents/pycon_moshe_pytest_mock/venv/bin/python\n",
      "cachedir: .pytest_cache\n",
      "rootdir: /Users/vrbabu/Documents/pycon_moshe_pytest_mock\n",
      "plugins: anyio-3.4.0\n",
      "\u001b[1mcollecting ... \u001b[0mcollected 1 item\n",
      "\n",
      "tmptx4sxitu.py::test_set_value_in_mock \u001b[31mFAILED\u001b[0m\u001b[31m                                                [100%]\u001b[0m\n",
      "\n",
      "============================================= FAILURES =============================================\n",
      "\u001b[31m\u001b[1m______________________________________ test_set_value_in_mock ______________________________________\u001b[0m\n",
      "\n",
      "    \u001b[94mdef\u001b[39;49;00m \u001b[92mtest_set_value_in_mock\u001b[39;49;00m():\n",
      "        my_object = mock.MagicMock(name=\u001b[33m\"\u001b[39;49;00m\u001b[33mthing\u001b[39;49;00m\u001b[33m\"\u001b[39;49;00m, my_attribute = \u001b[94m5\u001b[39;49;00m)\n",
      "    \n",
      ">       \u001b[94massert\u001b[39;49;00m my_object.my_attribute != \u001b[94m5\u001b[39;49;00m\n",
      "\u001b[1m\u001b[31mE       AssertionError: assert 5 != 5\u001b[0m\n",
      "\u001b[1m\u001b[31mE        +  where 5 = <MagicMock name='thing' id='4740786464'>.my_attribute\u001b[0m\n",
      "\n",
      "\u001b[1m\u001b[31m/var/folders/nc/9qhrjynn6vjfcdgr9x5llf180000gn/T/ipykernel_61338/4058937251.py\u001b[0m:6: AssertionError\n",
      "===================================== short test summary info ======================================\n",
      "FAILED tmptx4sxitu.py::test_set_value_in_mock - AssertionError: assert 5 != 5\n",
      "\u001b[31m======================================== \u001b[31m\u001b[1m1 failed\u001b[0m\u001b[31m in 0.01s\u001b[0m\u001b[31m =========================================\u001b[0m\n"
     ]
    }
   ],
   "source": [
    "%%ipytest -vv\n",
    "\n",
    "from unittest import mock\n",
    "\n",
    "def test_set_value_in_mock():\n",
    "    my_object = mock.MagicMock(name=\"thing\", my_attribute = 5)\n",
    "\n",
    "    assert my_object.my_attribute != 5"
   ]
  },
  {
   "cell_type": "markdown",
   "metadata": {},
   "source": [
    "## Configure Mock"
   ]
  },
  {
   "cell_type": "code",
   "execution_count": 30,
   "metadata": {},
   "outputs": [
    {
     "name": "stdout",
     "output_type": "stream",
     "text": [
      "\u001b[1m======================================= test session starts ========================================\u001b[0m\n",
      "platform darwin -- Python 3.10.0, pytest-6.2.5, py-1.11.0, pluggy-1.0.0 -- /Users/vrbabu/Documents/pycon_moshe_pytest_mock/venv/bin/python\n",
      "cachedir: .pytest_cache\n",
      "rootdir: /Users/vrbabu/Documents/pycon_moshe_pytest_mock\n",
      "plugins: anyio-3.4.0\n",
      "\u001b[1mcollecting ... \u001b[0mcollected 1 item\n",
      "\n",
      "tmpv6310_9b.py::test_configuring_mock \u001b[32mPASSED\u001b[0m\u001b[32m                                                 [100%]\u001b[0m\n",
      "\n",
      "\u001b[32m======================================== \u001b[32m\u001b[1m1 passed\u001b[0m\u001b[32m in 0.01s\u001b[0m\u001b[32m =========================================\u001b[0m\n"
     ]
    }
   ],
   "source": [
    "%%ipytest -vv\n",
    "\n",
    "from unittest import mock\n",
    "\n",
    "def add_1(x: int)-> int:\n",
    "    return x.value + 1\n",
    "\n",
    "def test_configuring_mock():\n",
    "    x = mock.MagicMock(name=\"thing\")\n",
    "\n",
    "    x.configure_mock(\n",
    "        **{\n",
    "            \"some_attribute.value\" : 1,\n",
    "            \"gauge\": 7\n",
    "        }\n",
    "    )\n",
    "\n",
    "    assert add_1(x.some_attribute) == 2"
   ]
  }
 ],
 "metadata": {
  "interpreter": {
   "hash": "52426598888f832f2d5645d1b008540790c3300c0ee59cc57f4f5b4ce391cdd5"
  },
  "kernelspec": {
   "display_name": "Python 3.10.0 64-bit ('venv': venv)",
   "language": "python",
   "name": "python3"
  },
  "language_info": {
   "codemirror_mode": {
    "name": "ipython",
    "version": 3
   },
   "file_extension": ".py",
   "mimetype": "text/x-python",
   "name": "python",
   "nbconvert_exporter": "python",
   "pygments_lexer": "ipython3",
   "version": "3.10.0"
  },
  "orig_nbformat": 4
 },
 "nbformat": 4,
 "nbformat_minor": 2
}
