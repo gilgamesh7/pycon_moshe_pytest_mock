{
 "cells": [
  {
   "cell_type": "code",
   "execution_count": 1,
   "metadata": {},
   "outputs": [],
   "source": [
    "import ipytest\n",
    "ipytest.autoconfig()"
   ]
  },
  {
   "cell_type": "code",
   "execution_count": 12,
   "metadata": {},
   "outputs": [
    {
     "name": "stdout",
     "output_type": "stream",
     "text": [
      "\u001b[1m======================================= test session starts ========================================\u001b[0m\n",
      "platform darwin -- Python 3.10.0, pytest-6.2.5, py-1.11.0, pluggy-1.0.0 -- /Users/vrbabu/Documents/pycon_moshe_pytest_mock/venv/bin/python\n",
      "cachedir: .pytest_cache\n",
      "rootdir: /Users/vrbabu/Documents/pycon_moshe_pytest_mock\n",
      "plugins: anyio-3.4.0\n",
      "\u001b[1mcollecting ... \u001b[0mcollected 1 item\n",
      "\n",
      "tmppz5jq__f.py::test_calculate_cube \u001b[31mFAILED\u001b[0m\u001b[31m                                                   [100%]\u001b[0m\n",
      "\n",
      "============================================= FAILURES =============================================\n",
      "\u001b[31m\u001b[1m_______________________________________ test_calculate_cube ________________________________________\u001b[0m\n",
      "\n",
      "    \u001b[94mdef\u001b[39;49;00m \u001b[92mtest_calculate_cube\u001b[39;49;00m():\n",
      "        client = mock.MagicMock(spec=httpx.Client)\n",
      "        client.get.side_effect = [mock.MagicMock(text=\u001b[96mstr\u001b[39;49;00m(x)) \u001b[94mfor\u001b[39;49;00m x \u001b[95min\u001b[39;49;00m [\u001b[94m25\u001b[39;49;00m, \u001b[94m125\u001b[39;49;00m]]\n",
      "    \n",
      "        \u001b[94massert\u001b[39;49;00m calculate_cube(client, \u001b[94m5\u001b[39;49;00m) == \u001b[94m125\u001b[39;49;00m\n",
      "    \n",
      ">       \u001b[94massert\u001b[39;49;00m client.get.call_count == \u001b[94m3\u001b[39;49;00m\n",
      "\u001b[1m\u001b[31mE       assert 2 == 3\u001b[0m\n",
      "\u001b[1m\u001b[31mE         +2\u001b[0m\n",
      "\u001b[1m\u001b[31mE         -3\u001b[0m\n",
      "\n",
      "\u001b[1m\u001b[31m/var/folders/nc/9qhrjynn6vjfcdgr9x5llf180000gn/T/ipykernel_86461/3147530791.py\u001b[0m:17: AssertionError\n",
      "===================================== short test summary info ======================================\n",
      "FAILED tmppz5jq__f.py::test_calculate_cube - assert 2 == 3\n",
      "\u001b[31m======================================== \u001b[31m\u001b[1m1 failed\u001b[0m\u001b[31m in 0.01s\u001b[0m\u001b[31m =========================================\u001b[0m\n"
     ]
    }
   ],
   "source": [
    "%%ipytest -vv\n",
    "\n",
    "import httpx\n",
    "from unittest import mock\n",
    "\n",
    "def calculate_cube(client: httpx.Client,base: int)-> int:\n",
    "    mathjs_url=\"https://api.mathjs.org/v4/?expr=\"\n",
    "    square = int(client.get(f\"{mathjs_url}{base}*{base}\").text)\n",
    "    cube = int(client.get(f\"{mathjs_url}{base}*{square}\").text)\n",
    "\n",
    "    return cube\n",
    "\n",
    "def test_calculate_cube():\n",
    "    client = mock.MagicMock(spec=httpx.Client)\n",
    "    client.get.side_effect = [mock.MagicMock(text=str(x)) for x in [25, 125]]\n",
    "\n",
    "    assert calculate_cube(client, 5) == 125\n",
    "\n",
    "    assert client.get.call_count == 2"
   ]
  }
 ],
 "metadata": {
  "interpreter": {
   "hash": "52426598888f832f2d5645d1b008540790c3300c0ee59cc57f4f5b4ce391cdd5"
  },
  "kernelspec": {
   "display_name": "Python 3.10.0 64-bit ('venv': venv)",
   "language": "python",
   "name": "python3"
  },
  "language_info": {
   "codemirror_mode": {
    "name": "ipython",
    "version": 3
   },
   "file_extension": ".py",
   "mimetype": "text/x-python",
   "name": "python",
   "nbconvert_exporter": "python",
   "pygments_lexer": "ipython3",
   "version": "3.10.0"
  },
  "orig_nbformat": 4
 },
 "nbformat": 4,
 "nbformat_minor": 2
}
